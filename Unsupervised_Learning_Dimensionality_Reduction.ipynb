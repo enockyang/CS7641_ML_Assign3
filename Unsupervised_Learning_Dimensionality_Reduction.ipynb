{
 "cells": [
  {
   "cell_type": "code",
   "execution_count": 58,
   "metadata": {},
   "outputs": [],
   "source": [
    "from sklearn.datasets import load_iris\n",
    "from sklearn.cluster import KMeans\n",
    "from sklearn.metrics import confusion_matrix\n",
    "from sklearn.mixture import GaussianMixture\n",
    "from sklearn.preprocessing import MinMaxScaler\n",
    "from sklearn.decomposition import PCA, FastICA\n",
    "from sklearn.random_projection import GaussianRandomProjection, SparseRandomProjection\n",
    "from sklearn.tree import DecisionTreeClassifier\n",
    "from sklearn.feature_selection import SelectKBest\n",
    "from sklearn.feature_selection import chi2\n",
    "from sklearn.datasets import fetch_mldata\n",
    "import numpy as np\n",
    "import itertools\n",
    "from sklearn.model_selection import train_test_split\n",
    "from sklearn.neural_network import MLPClassifier"
   ]
  },
  {
   "cell_type": "code",
   "execution_count": 226,
   "metadata": {},
   "outputs": [],
   "source": [
    "def best_confusion(r):\n",
    "    n = r.shape[0]\n",
    "    inp_list = [i for i in range(n)]\n",
    "    permutations = list(itertools.permutations(inp_list))\n",
    "    max_sum = 0\n",
    "    max_list = (i for i in range(n))\n",
    "    for i in permutations:\n",
    "        cur = np.sum(np.diagonal(r[:,i]))\n",
    "        if cur > max_sum:\n",
    "            max_sum = cur\n",
    "            max_list = i\n",
    "    return r[:,max_list], max_sum      "
   ]
  },
  {
   "cell_type": "code",
   "execution_count": 3,
   "metadata": {},
   "outputs": [
    {
     "name": "stdout",
     "output_type": "stream",
     "text": [
      "(70000, 784)\n",
      "(70000,)\n"
     ]
    },
    {
     "name": "stderr",
     "output_type": "stream",
     "text": [
      "C:\\ProgramData\\Anaconda3\\lib\\site-packages\\sklearn\\utils\\deprecation.py:77: DeprecationWarning: Function fetch_mldata is deprecated; fetch_mldata was deprecated in version 0.20 and will be removed in version 0.22\n",
      "  warnings.warn(msg, category=DeprecationWarning)\n",
      "C:\\ProgramData\\Anaconda3\\lib\\site-packages\\sklearn\\utils\\deprecation.py:77: DeprecationWarning: Function mldata_filename is deprecated; mldata_filename was deprecated in version 0.20 and will be removed in version 0.22\n",
      "  warnings.warn(msg, category=DeprecationWarning)\n"
     ]
    }
   ],
   "source": [
    "### load data\n",
    "mnist = fetch_mldata('MNIST original', data_home = './datasets')\n",
    "X, y = mnist['data'], mnist['target'] \n",
    "print(X.shape)\n",
    "print(y.shape)\n",
    "X_s, X_t, y_s, y_t = train_test_split(X, y, test_size = 0.5, random_state = 0)"
   ]
  },
  {
   "cell_type": "markdown",
   "metadata": {},
   "source": [
    "## 1. Clustering"
   ]
  },
  {
   "cell_type": "code",
   "execution_count": 9,
   "metadata": {},
   "outputs": [],
   "source": [
    "iris_dataset = load_iris()"
   ]
  },
  {
   "cell_type": "code",
   "execution_count": 10,
   "metadata": {},
   "outputs": [],
   "source": [
    "iris_cluster = iris_dataset['data']"
   ]
  },
  {
   "cell_type": "code",
   "execution_count": 11,
   "metadata": {},
   "outputs": [
    {
     "data": {
      "text/plain": [
       "array([[5.1, 3.5, 1.4, 0.2],\n",
       "       [4.9, 3. , 1.4, 0.2],\n",
       "       [4.7, 3.2, 1.3, 0.2],\n",
       "       [4.6, 3.1, 1.5, 0.2],\n",
       "       [5. , 3.6, 1.4, 0.2],\n",
       "       [5.4, 3.9, 1.7, 0.4],\n",
       "       [4.6, 3.4, 1.4, 0.3],\n",
       "       [5. , 3.4, 1.5, 0.2],\n",
       "       [4.4, 2.9, 1.4, 0.2],\n",
       "       [4.9, 3.1, 1.5, 0.1]])"
      ]
     },
     "execution_count": 11,
     "metadata": {},
     "output_type": "execute_result"
    }
   ],
   "source": [
    "iris_cluster[0:10]"
   ]
  },
  {
   "cell_type": "markdown",
   "metadata": {},
   "source": [
    "### 1.1 Original data"
   ]
  },
  {
   "cell_type": "code",
   "execution_count": 35,
   "metadata": {},
   "outputs": [],
   "source": [
    "estimator = KMeans(n_clusters=3)\n",
    "estimator.fit(iris_cluster)\n",
    "label_pred = estimator.labels_"
   ]
  },
  {
   "cell_type": "code",
   "execution_count": 45,
   "metadata": {},
   "outputs": [
    {
     "data": {
      "text/plain": [
       "array([[50,  0,  0],\n",
       "       [ 0, 48,  2],\n",
       "       [ 0, 14, 36]], dtype=int64)"
      ]
     },
     "execution_count": 45,
     "metadata": {},
     "output_type": "execute_result"
    }
   ],
   "source": [
    "r = confusion_matrix(iris_dataset['target'],label_pred)\n",
    "r"
   ]
  },
  {
   "cell_type": "code",
   "execution_count": 44,
   "metadata": {},
   "outputs": [],
   "source": [
    "estimator1 = GaussianMixture(n_components=3)\n",
    "estimator1.fit(iris_cluster)\n",
    "label_pred1 = estimator1.predict(iris_cluster)"
   ]
  },
  {
   "cell_type": "code",
   "execution_count": 46,
   "metadata": {},
   "outputs": [
    {
     "data": {
      "text/plain": [
       "array([[ 0, 50,  0],\n",
       "       [ 5,  0, 45],\n",
       "       [50,  0,  0]], dtype=int64)"
      ]
     },
     "execution_count": 46,
     "metadata": {},
     "output_type": "execute_result"
    }
   ],
   "source": [
    "r1 = confusion_matrix(iris_dataset['target'],label_pred1)\n",
    "r1"
   ]
  },
  {
   "cell_type": "code",
   "execution_count": 48,
   "metadata": {},
   "outputs": [
    {
     "data": {
      "text/plain": [
       "array([[50,  0,  0],\n",
       "       [ 0, 45,  5],\n",
       "       [ 0,  0, 50]], dtype=int64)"
      ]
     },
     "execution_count": 48,
     "metadata": {},
     "output_type": "execute_result"
    }
   ],
   "source": [
    "r1[:,[1,2,0]]"
   ]
  },
  {
   "cell_type": "code",
   "execution_count": 190,
   "metadata": {},
   "outputs": [],
   "source": [
    "estimator = KMeans(n_clusters=10)\n",
    "estimator.fit(X)\n",
    "label_pred = estimator.labels_"
   ]
  },
  {
   "cell_type": "code",
   "execution_count": 191,
   "metadata": {},
   "outputs": [
    {
     "data": {
      "text/plain": [
       "array([[ 292,  248,   34, 5506,  643,   14,   38,   82,    0,   46],\n",
       "       [   9,   10, 3457,    0,    8,    9,    7,    4, 4364,    9],\n",
       "       [ 446,  188,  477,   74,  164,   48,   72,  246,  368, 4907],\n",
       "       [4563,   68,   91,   37, 1406,  166,   48,   83,  426,  253],\n",
       "       [   0,  148,  241,    4,   11, 1861, 1818, 2604,  116,   21],\n",
       "       [2062,  143,  772,   68, 2169,  318,  394,  228,  139,   20],\n",
       "       [  34, 5476,  219,   91,  181,    2,    1,  464,  295,  113],\n",
       "       [   3,    5,  279,   14,    3, 2813, 3182,  707,  248,   39],\n",
       "       [1578,   65,  438,   36, 3680,  245,  279,  152,  301,   51],\n",
       "       [  93,    9,   84,   40,   55, 2908, 1893, 1718,  149,    9]],\n",
       "      dtype=int64)"
      ]
     },
     "execution_count": 191,
     "metadata": {},
     "output_type": "execute_result"
    }
   ],
   "source": [
    "r = confusion_matrix(y,label_pred)\n",
    "r"
   ]
  },
  {
   "cell_type": "code",
   "execution_count": 212,
   "metadata": {},
   "outputs": [
    {
     "data": {
      "text/plain": [
       "array([[5506,    0,   46,  292,   82,   34,  248,   38,  643,   14],\n",
       "       [   0, 4364,    9,    9,    4, 3457,   10,    7,    8,    9],\n",
       "       [  74,  368, 4907,  446,  246,  477,  188,   72,  164,   48],\n",
       "       [  37,  426,  253, 4563,   83,   91,   68,   48, 1406,  166],\n",
       "       [   4,  116,   21,    0, 2604,  241,  148, 1818,   11, 1861],\n",
       "       [  68,  139,   20, 2062,  228,  772,  143,  394, 2169,  318],\n",
       "       [  91,  295,  113,   34,  464,  219, 5476,    1,  181,    2],\n",
       "       [  14,  248,   39,    3,  707,  279,    5, 3182,    3, 2813],\n",
       "       [  36,  301,   51, 1578,  152,  438,   65,  279, 3680,  245],\n",
       "       [  40,  149,    9,   93, 1718,   84,    9, 1893,   55, 2908]],\n",
       "      dtype=int64)"
      ]
     },
     "execution_count": 212,
     "metadata": {},
     "output_type": "execute_result"
    }
   ],
   "source": [
    "r[:,(3,8,9,0,7,2,1,6,4,5)]"
   ]
  },
  {
   "cell_type": "code",
   "execution_count": 214,
   "metadata": {},
   "outputs": [
    {
     "data": {
      "text/plain": [
       "37962"
      ]
     },
     "execution_count": 214,
     "metadata": {},
     "output_type": "execute_result"
    }
   ],
   "source": [
    "np.sum(np.diagonal(r[:,(3,8,9,0,7,2,1,6,4,5)]))"
   ]
  },
  {
   "cell_type": "code",
   "execution_count": 227,
   "metadata": {},
   "outputs": [],
   "source": [
    "a, b  = best_confusion(r)"
   ]
  },
  {
   "cell_type": "code",
   "execution_count": 228,
   "metadata": {},
   "outputs": [
    {
     "name": "stdout",
     "output_type": "stream",
     "text": [
      "[[5506    0   46  292   82   34  248   38  643   14]\n",
      " [   0 4364    9    9    4 3457   10    7    8    9]\n",
      " [  74  368 4907  446  246  477  188   72  164   48]\n",
      " [  37  426  253 4563   83   91   68   48 1406  166]\n",
      " [   4  116   21    0 2604  241  148 1818   11 1861]\n",
      " [  68  139   20 2062  228  772  143  394 2169  318]\n",
      " [  91  295  113   34  464  219 5476    1  181    2]\n",
      " [  14  248   39    3  707  279    5 3182    3 2813]\n",
      " [  36  301   51 1578  152  438   65  279 3680  245]\n",
      " [  40  149    9   93 1718   84    9 1893   55 2908]]\n",
      "37962\n"
     ]
    }
   ],
   "source": [
    "print(a)\n",
    "print(b)"
   ]
  },
  {
   "cell_type": "code",
   "execution_count": 237,
   "metadata": {},
   "outputs": [],
   "source": [
    "estimator1 = GaussianMixture(n_components=10)\n",
    "estimator1.fit(X_s)\n",
    "label_pred1 = estimator1.predict(X_s)"
   ]
  },
  {
   "cell_type": "code",
   "execution_count": 238,
   "metadata": {},
   "outputs": [
    {
     "data": {
      "text/plain": [
       "array([[  11, 2412,    1,   37,    2,  886,   11,   76,   37,    2],\n",
       "       [  18,   48,   11,   13,    0,  543,   16, 3261,   15,    0],\n",
       "       [ 129, 1550,    6,  175,   13,  212,   20,  237, 1178,    4],\n",
       "       [  12,  981,    2,  611,   10, 1086,   95,  710,  117,    7],\n",
       "       [  18,  689,   10,   77,  166,  621, 1335,  341,   28,  119],\n",
       "       [  22,  692,   21,  141,   16, 1876,  102,  239,   16,   18],\n",
       "       [2385,  403,   12,    5,   69,   88,    1,  391,   56,    0],\n",
       "       [   0,   48,   13,   50,  117,  222, 2228,  306,    6,  663],\n",
       "       [   6,  491,    5,  106,   19, 1754,  333,  646,    5,   24],\n",
       "       [   0,   49,    6,   42,  203,  245, 2159,  578,    8,  156]],\n",
       "      dtype=int64)"
      ]
     },
     "execution_count": 238,
     "metadata": {},
     "output_type": "execute_result"
    }
   ],
   "source": [
    "r1 = confusion_matrix(y_s,label_pred1)\n",
    "r1"
   ]
  },
  {
   "cell_type": "code",
   "execution_count": 240,
   "metadata": {},
   "outputs": [],
   "source": [
    "a, b  = best_confusion(r1)"
   ]
  },
  {
   "cell_type": "code",
   "execution_count": 241,
   "metadata": {},
   "outputs": [
    {
     "name": "stdout",
     "output_type": "stream",
     "text": [
      "[[2412   76   37   37    2  886   11    2    1   11]\n",
      " [  48 3261   15   13    0  543   18    0   11   16]\n",
      " [1550  237 1178  175   13  212  129    4    6   20]\n",
      " [ 981  710  117  611   10 1086   12    7    2   95]\n",
      " [ 689  341   28   77  166  621   18  119   10 1335]\n",
      " [ 692  239   16  141   16 1876   22   18   21  102]\n",
      " [ 403  391   56    5   69   88 2385    0   12    1]\n",
      " [  48  306    6   50  117  222    0  663   13 2228]\n",
      " [ 491  646    5  106   19 1754    6   24    5  333]\n",
      " [  49  578    8   42  203  245    0  156    6 2159]]\n",
      "14716\n"
     ]
    }
   ],
   "source": [
    "print(a)\n",
    "print(b)"
   ]
  },
  {
   "cell_type": "markdown",
   "metadata": {},
   "source": [
    "### 1.2 Standrized Data"
   ]
  },
  {
   "cell_type": "code",
   "execution_count": null,
   "metadata": {},
   "outputs": [],
   "source": []
  },
  {
   "cell_type": "markdown",
   "metadata": {},
   "source": [
    "#### 1.2.1 normalizaztion"
   ]
  },
  {
   "cell_type": "code",
   "execution_count": 29,
   "metadata": {},
   "outputs": [
    {
     "data": {
      "text/plain": [
       "array([[-0.90068117,  1.01900435, -1.34022653, -1.3154443 ],\n",
       "       [-1.14301691, -0.13197948, -1.34022653, -1.3154443 ],\n",
       "       [-1.38535265,  0.32841405, -1.39706395, -1.3154443 ],\n",
       "       [-1.50652052,  0.09821729, -1.2833891 , -1.3154443 ],\n",
       "       [-1.02184904,  1.24920112, -1.34022653, -1.3154443 ],\n",
       "       [-0.53717756,  1.93979142, -1.16971425, -1.05217993],\n",
       "       [-1.50652052,  0.78880759, -1.34022653, -1.18381211],\n",
       "       [-1.02184904,  0.78880759, -1.2833891 , -1.3154443 ],\n",
       "       [-1.74885626, -0.36217625, -1.34022653, -1.3154443 ],\n",
       "       [-1.14301691,  0.09821729, -1.2833891 , -1.44707648]])"
      ]
     },
     "execution_count": 29,
     "metadata": {},
     "output_type": "execute_result"
    }
   ],
   "source": [
    "iris_cluster_s = (iris_cluster - iris_cluster.mean(axis = 0))/iris_cluster.std(axis = 0)"
   ]
  },
  {
   "cell_type": "code",
   "execution_count": 37,
   "metadata": {},
   "outputs": [],
   "source": [
    "estimator2 = KMeans(n_clusters=3)\n",
    "estimator2.fit(iris_cluster_s)\n",
    "label_pred2 = estimator2.labels_"
   ]
  },
  {
   "cell_type": "code",
   "execution_count": 49,
   "metadata": {},
   "outputs": [
    {
     "data": {
      "text/plain": [
       "array([[50,  0,  0],\n",
       "       [ 0, 39, 11],\n",
       "       [ 0, 14, 36]], dtype=int64)"
      ]
     },
     "execution_count": 49,
     "metadata": {},
     "output_type": "execute_result"
    }
   ],
   "source": [
    "r2 = confusion_matrix(iris_dataset['target'],label_pred2)\n",
    "r2\n",
    "r2[:,[1,0,2]]"
   ]
  },
  {
   "cell_type": "code",
   "execution_count": 51,
   "metadata": {},
   "outputs": [],
   "source": [
    "estimator3 = GaussianMixture(n_components=3)\n",
    "estimator3.fit(iris_cluster_s)\n",
    "label_pred3 = estimator3.predict(iris_cluster_s)"
   ]
  },
  {
   "cell_type": "code",
   "execution_count": 53,
   "metadata": {},
   "outputs": [
    {
     "data": {
      "text/plain": [
       "array([[50,  0,  0],\n",
       "       [ 0, 45,  5],\n",
       "       [ 0,  0, 50]], dtype=int64)"
      ]
     },
     "execution_count": 53,
     "metadata": {},
     "output_type": "execute_result"
    }
   ],
   "source": [
    "r3 = confusion_matrix(iris_dataset['target'],label_pred3)\n",
    "r3\n",
    "r3[:,[1,2,0]]"
   ]
  },
  {
   "cell_type": "markdown",
   "metadata": {},
   "source": [
    "#### 1.2.2 Minmax"
   ]
  },
  {
   "cell_type": "code",
   "execution_count": 54,
   "metadata": {},
   "outputs": [],
   "source": [
    "iris_cluster_s2 = (iris_cluster - iris_cluster.min(axis = 0))/iris_cluster.max(axis = 0)"
   ]
  },
  {
   "cell_type": "code",
   "execution_count": 55,
   "metadata": {},
   "outputs": [
    {
     "data": {
      "text/plain": [
       "array([[50,  0,  0],\n",
       "       [ 0, 48,  2],\n",
       "       [ 0,  4, 46]], dtype=int64)"
      ]
     },
     "execution_count": 55,
     "metadata": {},
     "output_type": "execute_result"
    }
   ],
   "source": [
    "estimator4 = KMeans(n_clusters=3)\n",
    "estimator4.fit(iris_cluster_s2)\n",
    "label_pred4 = estimator4.labels_\n",
    "r4 = confusion_matrix(iris_dataset['target'],label_pred4)\n",
    "r4"
   ]
  },
  {
   "cell_type": "code",
   "execution_count": 67,
   "metadata": {},
   "outputs": [
    {
     "data": {
      "text/plain": [
       "array([[50,  0,  0],\n",
       "       [ 0, 45,  5],\n",
       "       [ 0,  0, 50]], dtype=int64)"
      ]
     },
     "execution_count": 67,
     "metadata": {},
     "output_type": "execute_result"
    }
   ],
   "source": [
    "estimator5 = GaussianMixture(n_components=3)\n",
    "estimator5.fit(iris_cluster_s2)\n",
    "label_pred5 = estimator5.predict(iris_cluster_s2)\n",
    "r5 = confusion_matrix(iris_dataset['target'],label_pred5)\n",
    "r5"
   ]
  },
  {
   "cell_type": "markdown",
   "metadata": {},
   "source": [
    "## 2. Dimensionality Reduction"
   ]
  },
  {
   "cell_type": "markdown",
   "metadata": {},
   "source": [
    "### 2.1 PCA"
   ]
  },
  {
   "cell_type": "code",
   "execution_count": 12,
   "metadata": {},
   "outputs": [
    {
     "data": {
      "text/plain": [
       "array([[-2.68412563,  0.31939725, -0.02791483],\n",
       "       [-2.71414169, -0.17700123, -0.21046427],\n",
       "       [-2.88899057, -0.14494943,  0.01790026],\n",
       "       [-2.74534286, -0.31829898,  0.03155937],\n",
       "       [-2.72871654,  0.32675451,  0.09007924],\n",
       "       [-2.28085963,  0.74133045,  0.16867766],\n",
       "       [-2.82053775, -0.08946138,  0.25789216],\n",
       "       [-2.62614497,  0.16338496, -0.02187932],\n",
       "       [-2.88638273, -0.57831175,  0.02075957],\n",
       "       [-2.6727558 , -0.11377425, -0.19763272]])"
      ]
     },
     "execution_count": 12,
     "metadata": {},
     "output_type": "execute_result"
    }
   ],
   "source": [
    "pca = PCA(n_components ='mle')\n",
    "iris_pca = pca.fit_transform(iris_cluster)\n",
    "iris_pca[0:10]"
   ]
  },
  {
   "cell_type": "code",
   "execution_count": 13,
   "metadata": {},
   "outputs": [
    {
     "data": {
      "text/plain": [
       "array([0.92461872, 0.05306648, 0.01710261])"
      ]
     },
     "execution_count": 13,
     "metadata": {},
     "output_type": "execute_result"
    }
   ],
   "source": [
    "pca.explained_variance_ratio_"
   ]
  },
  {
   "cell_type": "markdown",
   "metadata": {},
   "source": [
    "### 2.2 ICA"
   ]
  },
  {
   "cell_type": "code",
   "execution_count": 14,
   "metadata": {},
   "outputs": [
    {
     "data": {
      "text/plain": [
       "array([[ 0.11369237,  0.03062106,  0.02135024,  0.00241868],\n",
       "       [ 0.10855025, -0.07938029,  0.0315086 , -0.00666514],\n",
       "       [ 0.11016515, -0.02850761, -0.02916445, -0.01300413],\n",
       "       [ 0.09837921, -0.03104032, -0.07189678,  0.02545228],\n",
       "       [ 0.11209209,  0.06012077, -0.01635511,  0.00882567],\n",
       "       [ 0.10341204,  0.12038116,  0.02122351, -0.02066626],\n",
       "       [ 0.10273859,  0.02570093, -0.08556198, -0.02592626],\n",
       "       [ 0.1067219 ,  0.01996159, -0.00664445,  0.02172212],\n",
       "       [ 0.09888465, -0.07673952, -0.08367323,  0.00660026],\n",
       "       [ 0.10530034, -0.03954967, -0.0037228 ,  0.05722642]])"
      ]
     },
     "execution_count": 14,
     "metadata": {},
     "output_type": "execute_result"
    }
   ],
   "source": [
    "ica = FastICA()\n",
    "iris_ica = ica.fit_transform(iris_cluster)\n",
    "iris_ica[0:10]"
   ]
  },
  {
   "cell_type": "code",
   "execution_count": 16,
   "metadata": {},
   "outputs": [],
   "source": [
    "# ica_mnist = FastICA()\n",
    "# mnist_ica = ica_mnist.fit_transform(X_s)\n",
    "# mnist_ica[0:10]"
   ]
  },
  {
   "cell_type": "markdown",
   "metadata": {},
   "source": [
    "### 2.3 Randomized Projections"
   ]
  },
  {
   "cell_type": "code",
   "execution_count": 31,
   "metadata": {},
   "outputs": [
    {
     "data": {
      "text/plain": [
       "array([[4.11612083, 0.6015643 , 0.14874258],\n",
       "       [3.75587921, 0.7376894 , 0.19864978],\n",
       "       [3.77393787, 0.56746606, 0.15299238],\n",
       "       [3.47731458, 0.60382601, 0.21282672],\n",
       "       [4.0805383 , 0.52411729, 0.13841426],\n",
       "       [4.24330571, 0.60140827, 0.32308081],\n",
       "       [3.68994422, 0.47004126, 0.22704169],\n",
       "       [3.90872127, 0.62259493, 0.18357614],\n",
       "       [3.33018664, 0.59989931, 0.2074915 ],\n",
       "       [3.70843617, 0.7051775 , 0.14411262]])"
      ]
     },
     "execution_count": 31,
     "metadata": {},
     "output_type": "execute_result"
    }
   ],
   "source": [
    "rca = GaussianRandomProjection(n_components = 3, random_state = 10)\n",
    "iris_rca = rca.fit_transform(iris_cluster)\n",
    "iris_rca[0:10]"
   ]
  },
  {
   "cell_type": "code",
   "execution_count": 32,
   "metadata": {},
   "outputs": [
    {
     "data": {
      "text/plain": [
       "array([[ 0.76879183,  0.41296651, -0.89223727, -0.00484042],\n",
       "       [ 0.35872849, -0.41574159,  0.15329319,  0.06267052],\n",
       "       [ 0.00247766, -0.10080548,  0.25000779,  0.69457395]])"
      ]
     },
     "execution_count": 32,
     "metadata": {},
     "output_type": "execute_result"
    }
   ],
   "source": [
    "rca.components_"
   ]
  },
  {
   "cell_type": "code",
   "execution_count": 30,
   "metadata": {},
   "outputs": [],
   "source": [
    "# rca_mnist = GaussianRandomProjection(random_state = 10)\n",
    "# mnist_rca = rca_mnist.fit_transform(X_s)\n",
    "# mnist_rca[0:10]"
   ]
  },
  {
   "cell_type": "markdown",
   "metadata": {},
   "source": [
    "### 2.4 Decison Tree Feature Selection"
   ]
  },
  {
   "cell_type": "code",
   "execution_count": 35,
   "metadata": {},
   "outputs": [
    {
     "data": {
      "text/plain": [
       "array([[5.1, 1.4, 0.2],\n",
       "       [4.9, 1.4, 0.2],\n",
       "       [4.7, 1.3, 0.2],\n",
       "       [4.6, 1.5, 0.2],\n",
       "       [5. , 1.4, 0.2],\n",
       "       [5.4, 1.7, 0.4],\n",
       "       [4.6, 1.4, 0.3],\n",
       "       [5. , 1.5, 0.2],\n",
       "       [4.4, 1.4, 0.2],\n",
       "       [4.9, 1.5, 0.1]])"
      ]
     },
     "execution_count": 35,
     "metadata": {},
     "output_type": "execute_result"
    }
   ],
   "source": [
    "X_new = SelectKBest(chi2,k=3).fit_transform(iris_dataset['data'],iris_dataset['target'])\n",
    "X_new[0:10]"
   ]
  },
  {
   "cell_type": "markdown",
   "metadata": {},
   "source": [
    "## 3 Reproduce"
   ]
  },
  {
   "cell_type": "code",
   "execution_count": 39,
   "metadata": {},
   "outputs": [],
   "source": [
    "estimator = KMeans(n_clusters=3)\n",
    "estimator.fit(iris_pca)\n",
    "label_pred = estimator.labels_"
   ]
  },
  {
   "cell_type": "code",
   "execution_count": 40,
   "metadata": {},
   "outputs": [
    {
     "data": {
      "text/plain": [
       "array([[ 0, 50,  0],\n",
       "       [ 2,  0, 48],\n",
       "       [36,  0, 14]], dtype=int64)"
      ]
     },
     "execution_count": 40,
     "metadata": {},
     "output_type": "execute_result"
    }
   ],
   "source": [
    "r = confusion_matrix(iris_dataset['target'],label_pred)\n",
    "r"
   ]
  },
  {
   "cell_type": "code",
   "execution_count": 41,
   "metadata": {},
   "outputs": [
    {
     "data": {
      "text/plain": [
       "array([[50,  0,  0],\n",
       "       [ 0, 48,  2],\n",
       "       [ 0, 14, 36]], dtype=int64)"
      ]
     },
     "execution_count": 41,
     "metadata": {},
     "output_type": "execute_result"
    }
   ],
   "source": [
    "r[:,[1,2,0]]"
   ]
  },
  {
   "cell_type": "code",
   "execution_count": 42,
   "metadata": {},
   "outputs": [],
   "source": [
    "estimator = KMeans(n_clusters=3)\n",
    "estimator.fit(iris_ica)\n",
    "label_pred = estimator.labels_"
   ]
  },
  {
   "cell_type": "code",
   "execution_count": 43,
   "metadata": {
    "scrolled": true
   },
   "outputs": [
    {
     "data": {
      "text/plain": [
       "array([[ 0, 50,  0],\n",
       "       [41,  0,  9],\n",
       "       [19,  0, 31]], dtype=int64)"
      ]
     },
     "execution_count": 43,
     "metadata": {},
     "output_type": "execute_result"
    }
   ],
   "source": [
    "r = confusion_matrix(iris_dataset['target'],label_pred)\n",
    "r"
   ]
  },
  {
   "cell_type": "code",
   "execution_count": 44,
   "metadata": {},
   "outputs": [
    {
     "data": {
      "text/plain": [
       "array([[50,  0,  0],\n",
       "       [ 0, 41,  9],\n",
       "       [ 0, 19, 31]], dtype=int64)"
      ]
     },
     "execution_count": 44,
     "metadata": {},
     "output_type": "execute_result"
    }
   ],
   "source": [
    "r[:,[1,0,2]]"
   ]
  },
  {
   "cell_type": "code",
   "execution_count": 45,
   "metadata": {},
   "outputs": [
    {
     "data": {
      "text/plain": [
       "array([[50,  0,  0],\n",
       "       [ 0, 48,  2],\n",
       "       [ 0,  0, 50]], dtype=int64)"
      ]
     },
     "execution_count": 45,
     "metadata": {},
     "output_type": "execute_result"
    }
   ],
   "source": [
    "estimator = KMeans(n_clusters=3)\n",
    "estimator.fit(iris_rca)\n",
    "label_pred = estimator.labels_\n",
    "r = confusion_matrix(iris_dataset['target'],label_pred)\n",
    "r"
   ]
  },
  {
   "cell_type": "code",
   "execution_count": 46,
   "metadata": {},
   "outputs": [
    {
     "data": {
      "text/plain": [
       "array([[ 0, 50,  0],\n",
       "       [ 2,  0, 48],\n",
       "       [36,  0, 14]], dtype=int64)"
      ]
     },
     "execution_count": 46,
     "metadata": {},
     "output_type": "execute_result"
    }
   ],
   "source": [
    "estimator = KMeans(n_clusters=3)\n",
    "estimator.fit(X_new)\n",
    "label_pred = estimator.labels_\n",
    "r = confusion_matrix(iris_dataset['target'],label_pred)\n",
    "r"
   ]
  },
  {
   "cell_type": "code",
   "execution_count": 47,
   "metadata": {},
   "outputs": [
    {
     "data": {
      "text/plain": [
       "array([[50,  0,  0],\n",
       "       [ 0, 48,  2],\n",
       "       [ 0, 14, 36]], dtype=int64)"
      ]
     },
     "execution_count": 47,
     "metadata": {},
     "output_type": "execute_result"
    }
   ],
   "source": [
    "r[:,[1,2,0]]"
   ]
  },
  {
   "cell_type": "code",
   "execution_count": 49,
   "metadata": {},
   "outputs": [
    {
     "data": {
      "text/plain": [
       "array([[ 0, 50,  0],\n",
       "       [49,  0,  1],\n",
       "       [ 6,  0, 44]], dtype=int64)"
      ]
     },
     "execution_count": 49,
     "metadata": {},
     "output_type": "execute_result"
    }
   ],
   "source": [
    "estimator1 = GaussianMixture(n_components=3)\n",
    "estimator1.fit(iris_pca)\n",
    "label_pred1 = estimator1.predict(iris_pca)\n",
    "r1 = confusion_matrix(iris_dataset['target'],label_pred1)\n",
    "r1"
   ]
  },
  {
   "cell_type": "code",
   "execution_count": 51,
   "metadata": {},
   "outputs": [
    {
     "data": {
      "text/plain": [
       "array([[50,  0,  0],\n",
       "       [ 0, 49,  1],\n",
       "       [ 0,  6, 44]], dtype=int64)"
      ]
     },
     "execution_count": 51,
     "metadata": {},
     "output_type": "execute_result"
    }
   ],
   "source": [
    "r1[:,[1,0,2]]"
   ]
  },
  {
   "cell_type": "code",
   "execution_count": 52,
   "metadata": {},
   "outputs": [
    {
     "data": {
      "text/plain": [
       "array([[50,  0,  0],\n",
       "       [ 0, 39, 11],\n",
       "       [ 0, 40, 10]], dtype=int64)"
      ]
     },
     "execution_count": 52,
     "metadata": {},
     "output_type": "execute_result"
    }
   ],
   "source": [
    "estimator1 = GaussianMixture(n_components=3)\n",
    "estimator1.fit(iris_ica)\n",
    "label_pred1 = estimator1.predict(iris_ica)\n",
    "r1 = confusion_matrix(iris_dataset['target'],label_pred1)\n",
    "r1"
   ]
  },
  {
   "cell_type": "code",
   "execution_count": 53,
   "metadata": {},
   "outputs": [
    {
     "data": {
      "text/plain": [
       "array([[50,  0,  0],\n",
       "       [ 0, 11, 39],\n",
       "       [ 0, 10, 40]], dtype=int64)"
      ]
     },
     "execution_count": 53,
     "metadata": {},
     "output_type": "execute_result"
    }
   ],
   "source": [
    "r1[:,[0,2,1]]"
   ]
  },
  {
   "cell_type": "code",
   "execution_count": 54,
   "metadata": {},
   "outputs": [
    {
     "data": {
      "text/plain": [
       "array([[ 0, 50,  0],\n",
       "       [ 4,  0, 46],\n",
       "       [50,  0,  0]], dtype=int64)"
      ]
     },
     "execution_count": 54,
     "metadata": {},
     "output_type": "execute_result"
    }
   ],
   "source": [
    "estimator1 = GaussianMixture(n_components=3)\n",
    "estimator1.fit(iris_rca)\n",
    "label_pred1 = estimator1.predict(iris_rca)\n",
    "r1 = confusion_matrix(iris_dataset['target'],label_pred1)\n",
    "r1"
   ]
  },
  {
   "cell_type": "code",
   "execution_count": 55,
   "metadata": {},
   "outputs": [
    {
     "data": {
      "text/plain": [
       "array([[50,  0,  0],\n",
       "       [ 0, 46,  4],\n",
       "       [ 0,  0, 50]], dtype=int64)"
      ]
     },
     "execution_count": 55,
     "metadata": {},
     "output_type": "execute_result"
    }
   ],
   "source": [
    "r1[:,[1,2,0]]"
   ]
  },
  {
   "cell_type": "code",
   "execution_count": 56,
   "metadata": {},
   "outputs": [
    {
     "data": {
      "text/plain": [
       "array([[ 0, 50,  0],\n",
       "       [ 2,  0, 48],\n",
       "       [49,  0,  1]], dtype=int64)"
      ]
     },
     "execution_count": 56,
     "metadata": {},
     "output_type": "execute_result"
    }
   ],
   "source": [
    "estimator1 = GaussianMixture(n_components=3)\n",
    "estimator1.fit(X_new)\n",
    "label_pred1 = estimator1.predict(X_new)\n",
    "r1 = confusion_matrix(iris_dataset['target'],label_pred1)\n",
    "r1"
   ]
  },
  {
   "cell_type": "code",
   "execution_count": 57,
   "metadata": {},
   "outputs": [
    {
     "data": {
      "text/plain": [
       "array([[50,  0,  0],\n",
       "       [ 0, 48,  2],\n",
       "       [ 0,  1, 49]], dtype=int64)"
      ]
     },
     "execution_count": 57,
     "metadata": {},
     "output_type": "execute_result"
    }
   ],
   "source": [
    "r1[:,[1,2,0]]"
   ]
  },
  {
   "cell_type": "markdown",
   "metadata": {},
   "source": [
    "## 4 rerun neural network"
   ]
  },
  {
   "cell_type": "code",
   "execution_count": 80,
   "metadata": {},
   "outputs": [
    {
     "name": "stdout",
     "output_type": "stream",
     "text": [
      "train data accuracy: 0.9866666666666667\n",
      "test data accuracy: 0.9733333333333334\n"
     ]
    }
   ],
   "source": [
    "X_train, X_test, Y_train, Y_test = train_test_split(iris_dataset['data'], iris_dataset['target'], test_size = 0.5, random_state = 0)\n",
    "NN_model = MLPClassifier(hidden_layer_sizes = (100), random_state = 0, max_iter = 10000).fit(X_train, Y_train)\n",
    "print('train data accuracy:', NN_model.score(X_train, Y_train))\n",
    "print('test data accuracy:', NN_model.score(X_test, Y_test))"
   ]
  },
  {
   "cell_type": "code",
   "execution_count": 81,
   "metadata": {},
   "outputs": [
    {
     "name": "stdout",
     "output_type": "stream",
     "text": [
      "train data accuracy: 0.9866666666666667\n",
      "test data accuracy: 0.9333333333333333\n"
     ]
    }
   ],
   "source": [
    "X_train, X_test, Y_train, Y_test = train_test_split(iris_pca, iris_dataset['target'], test_size = 0.5, random_state = 0)\n",
    "NN_model = MLPClassifier(hidden_layer_sizes = (100), random_state = 0, max_iter = 10000).fit(X_train, Y_train)\n",
    "print('train data accuracy:', NN_model.score(X_train, Y_train))\n",
    "print('test data accuracy:', NN_model.score(X_test, Y_test))"
   ]
  },
  {
   "cell_type": "code",
   "execution_count": 82,
   "metadata": {},
   "outputs": [
    {
     "name": "stdout",
     "output_type": "stream",
     "text": [
      "train data accuracy: 0.9866666666666667\n",
      "test data accuracy: 0.88\n"
     ]
    }
   ],
   "source": [
    "X_train, X_test, Y_train, Y_test = train_test_split(iris_ica, iris_dataset['target'], test_size = 0.5, random_state = 0)\n",
    "NN_model = MLPClassifier(hidden_layer_sizes = (100), random_state = 0, max_iter = 10000).fit(X_train, Y_train)\n",
    "print('train data accuracy:', NN_model.score(X_train, Y_train))\n",
    "print('test data accuracy:', NN_model.score(X_test, Y_test))"
   ]
  },
  {
   "cell_type": "code",
   "execution_count": 83,
   "metadata": {},
   "outputs": [
    {
     "name": "stdout",
     "output_type": "stream",
     "text": [
      "train data accuracy: 0.9866666666666667\n",
      "test data accuracy: 0.9866666666666667\n"
     ]
    }
   ],
   "source": [
    "X_train, X_test, Y_train, Y_test = train_test_split(iris_rca, iris_dataset['target'], test_size = 0.5, random_state = 0)\n",
    "NN_model = MLPClassifier(hidden_layer_sizes = (100), random_state = 0, max_iter = 10000).fit(X_train, Y_train)\n",
    "print('train data accuracy:', NN_model.score(X_train, Y_train))\n",
    "print('test data accuracy:', NN_model.score(X_test, Y_test))"
   ]
  },
  {
   "cell_type": "code",
   "execution_count": 84,
   "metadata": {},
   "outputs": [
    {
     "name": "stdout",
     "output_type": "stream",
     "text": [
      "train data accuracy: 0.9866666666666667\n",
      "test data accuracy: 0.96\n"
     ]
    }
   ],
   "source": [
    "X_train, X_test, Y_train, Y_test = train_test_split(X_new, iris_dataset['target'], test_size = 0.5, random_state = 0)\n",
    "NN_model = MLPClassifier(hidden_layer_sizes = (100), random_state = 0, max_iter = 10000).fit(X_train, Y_train)\n",
    "print('train data accuracy:', NN_model.score(X_train, Y_train))\n",
    "print('test data accuracy:', NN_model.score(X_test, Y_test))"
   ]
  },
  {
   "cell_type": "markdown",
   "metadata": {},
   "source": [
    "## 5 clustering + supervised learning"
   ]
  },
  {
   "cell_type": "code",
   "execution_count": 85,
   "metadata": {},
   "outputs": [],
   "source": [
    "estimator = KMeans(n_clusters=3)\n",
    "estimator.fit(iris_cluster)\n",
    "label_pred = estimator.labels_"
   ]
  },
  {
   "cell_type": "code",
   "execution_count": 90,
   "metadata": {},
   "outputs": [],
   "source": [
    "irirs_cluster1 = np.c_[iris_cluster,label_pred]"
   ]
  },
  {
   "cell_type": "code",
   "execution_count": 91,
   "metadata": {},
   "outputs": [
    {
     "name": "stdout",
     "output_type": "stream",
     "text": [
      "train data accuracy: 0.9866666666666667\n",
      "test data accuracy: 0.9333333333333333\n"
     ]
    }
   ],
   "source": [
    "X_train, X_test, Y_train, Y_test = train_test_split(irirs_cluster1, iris_dataset['target'], test_size = 0.5, random_state = 0)\n",
    "NN_model = MLPClassifier(hidden_layer_sizes = (100), random_state = 0, max_iter = 10000).fit(X_train, Y_train)\n",
    "print('train data accuracy:', NN_model.score(X_train, Y_train))\n",
    "print('test data accuracy:', NN_model.score(X_test, Y_test))"
   ]
  },
  {
   "cell_type": "code",
   "execution_count": 92,
   "metadata": {},
   "outputs": [],
   "source": [
    "estimator1 = GaussianMixture(n_components=3)\n",
    "estimator1.fit(iris_cluster)\n",
    "label_pred1 = estimator1.predict(iris_cluster)"
   ]
  },
  {
   "cell_type": "code",
   "execution_count": 93,
   "metadata": {},
   "outputs": [],
   "source": [
    "irirs_cluster2 = np.c_[iris_cluster,label_pred1]"
   ]
  },
  {
   "cell_type": "code",
   "execution_count": 94,
   "metadata": {},
   "outputs": [
    {
     "name": "stdout",
     "output_type": "stream",
     "text": [
      "train data accuracy: 0.9866666666666667\n",
      "test data accuracy: 0.9733333333333334\n"
     ]
    }
   ],
   "source": [
    "X_train, X_test, Y_train, Y_test = train_test_split(irirs_cluster2, iris_dataset['target'], test_size = 0.5, random_state = 0)\n",
    "NN_model = MLPClassifier(hidden_layer_sizes = (100), random_state = 0, max_iter = 10000).fit(X_train, Y_train)\n",
    "print('train data accuracy:', NN_model.score(X_train, Y_train))\n",
    "print('test data accuracy:', NN_model.score(X_test, Y_test))"
   ]
  }
 ],
 "metadata": {
  "kernelspec": {
   "display_name": "Python 3",
   "language": "python",
   "name": "python3"
  },
  "language_info": {
   "codemirror_mode": {
    "name": "ipython",
    "version": 3
   },
   "file_extension": ".py",
   "mimetype": "text/x-python",
   "name": "python",
   "nbconvert_exporter": "python",
   "pygments_lexer": "ipython3",
   "version": "3.6.8"
  }
 },
 "nbformat": 4,
 "nbformat_minor": 2
}
